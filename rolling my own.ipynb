{
 "cells": [
  {
   "cell_type": "code",
   "execution_count": 736,
   "metadata": {
    "collapsed": false
   },
   "outputs": [
    {
     "name": "stdout",
     "output_type": "stream",
     "text": [
      "Populating the interactive namespace from numpy and matplotlib\n"
     ]
    },
    {
     "name": "stderr",
     "output_type": "stream",
     "text": [
      "WARNING: pylab import has clobbered these variables: ['step']\n",
      "`%matplotlib` prevents importing * from pylab and numpy\n"
     ]
    }
   ],
   "source": [
    "from __future__ import division\n",
    "from UserDict import UserDict\n",
    "%pylab inline"
   ]
  },
  {
   "cell_type": "markdown",
   "metadata": {},
   "source": [
    "# BUILDING NEURAL NETWORKS"
   ]
  },
  {
   "cell_type": "markdown",
   "metadata": {},
   "source": [
    "### <font color=red>Sample Data</font>"
   ]
  },
  {
   "cell_type": "code",
   "execution_count": 737,
   "metadata": {
    "collapsed": true
   },
   "outputs": [],
   "source": [
    "#input sequence\n",
    "i_1 = [1,0,1,0,1,0,1,0,1]\n",
    "\n",
    "#forget sequence\n",
    "f_1 = [0,0,0,0,0,0,0,0,0]\n",
    "\n",
    "#initialize output\n",
    "o_1 = [0]"
   ]
  },
  {
   "cell_type": "markdown",
   "metadata": {},
   "source": [
    "### <font color=red>I/O Nodes</font>"
   ]
  },
  {
   "cell_type": "code",
   "execution_count": 740,
   "metadata": {
    "collapsed": true
   },
   "outputs": [],
   "source": [
    "class I_Node(UserDict):\n",
    "    def __init__(self, name, data):\n",
    "        UserDict.__init__(self)\n",
    "        self[\"name\"] = name\n",
    "        self[\"data\"] = data\n",
    "        self[\"counter\"] = 0\n",
    "        self[\"state\"] = self[\"data\"][self[\"counter\"]]\n",
    "    def update(self):\n",
    "        self[\"counter\"]= self[\"counter\"]+1\n",
    "        self[\"state\"] = self[\"data\"][self[\"counter\"]]"
   ]
  },
  {
   "cell_type": "code",
   "execution_count": 741,
   "metadata": {
    "collapsed": true
   },
   "outputs": [],
   "source": [
    "class O_Node(UserDict):\n",
    "    def __init__(self, name, data, inputs=[]):\n",
    "        UserDict.__init__(self)\n",
    "        self[\"name\"] = name\n",
    "        self[\"data\"] = data\n",
    "        self[\"state\"] = self[\"data\"][-1]\n",
    "        self[\"inputs\"] = inputs\n",
    "    def update(self):\n",
    "        self[\"state\"] = reduce(lambda x, y: x+y, self[\"inputs\"])/len(self[\"inputs\"])\n",
    "        self[\"data\"].append(self[\"state\"])\n",
    "        self[\"inputs\"] = []"
   ]
  },
  {
   "cell_type": "code",
   "execution_count": 742,
   "metadata": {
    "collapsed": false
   },
   "outputs": [],
   "source": [
    "input_node = I_Node(\"i_1\",i_1)\n",
    "\n",
    "output_node = O_Node(\"o_1\",o_1)\n",
    "\n",
    "forget_node = I_Node(\"f_1\",f_1)"
   ]
  },
  {
   "cell_type": "markdown",
   "metadata": {},
   "source": [
    "### <font color=red>Hidden State Nodes</font>"
   ]
  },
  {
   "cell_type": "code",
   "execution_count": 745,
   "metadata": {
    "collapsed": false
   },
   "outputs": [],
   "source": [
    "class Hidden_State(UserDict):\n",
    "    \"reminder: init_state OR input, not both\"\n",
    "    def __init__(self, name, inputs=[], init_state=None):\n",
    "        UserDict.__init__(self)\n",
    "        self[\"name\"] = name\n",
    "        self[\"inputs\"] = inputs\n",
    "        if inputs:\n",
    "            self[\"state\"] = reduce(lambda x, y: x+y, self[\"inputs\"])/len(self[\"inputs\"])\n",
    "        else:\n",
    "            self[\"state\"] = init_state\n",
    "    def update(self):\n",
    "        self[\"state\"]=reduce(lambda x, y: x+y, self[\"inputs\"])/len(self[\"inputs\"])\n",
    "        self[\"inputs\"] = []"
   ]
  },
  {
   "cell_type": "code",
   "execution_count": 764,
   "metadata": {
    "collapsed": true
   },
   "outputs": [],
   "source": [
    "initial_state = 0\n",
    "hidden_state_1 = Hidden_State(\"h_1\", init_state=initial_state)"
   ]
  },
  {
   "cell_type": "markdown",
   "metadata": {},
   "source": [
    "**A Little Test**:"
   ]
  },
  {
   "cell_type": "code",
   "execution_count": 765,
   "metadata": {
    "collapsed": false
   },
   "outputs": [
    {
     "data": {
      "text/plain": [
       "{'inputs': [], 'state': 0, 'name': 'h_1'}"
      ]
     },
     "execution_count": 765,
     "metadata": {},
     "output_type": "execute_result"
    }
   ],
   "source": [
    "hidden_state_1"
   ]
  },
  {
   "cell_type": "code",
   "execution_count": 766,
   "metadata": {
    "collapsed": false
   },
   "outputs": [],
   "source": [
    "hidden_state_1[\"inputs\"]=[0,1,1]\n",
    "hidden_state_1.update()"
   ]
  },
  {
   "cell_type": "code",
   "execution_count": 767,
   "metadata": {
    "collapsed": false
   },
   "outputs": [
    {
     "data": {
      "text/plain": [
       "{'inputs': [], 'state': 0.6666666666666666, 'name': 'h_1'}"
      ]
     },
     "execution_count": 767,
     "metadata": {},
     "output_type": "execute_result"
    }
   ],
   "source": [
    "hidden_state_1"
   ]
  },
  {
   "cell_type": "code",
   "execution_count": 769,
   "metadata": {
    "collapsed": true
   },
   "outputs": [],
   "source": [
    "#back to initial state\n",
    "hidden_state_1 = Hidden_State(\"h_1\", init_state=initial_state)"
   ]
  },
  {
   "cell_type": "markdown",
   "metadata": {},
   "source": [
    "### <font color=red>Gates!</font>"
   ]
  },
  {
   "cell_type": "code",
   "execution_count": 772,
   "metadata": {
    "collapsed": true
   },
   "outputs": [],
   "source": [
    "#Define opening and closing logic for gates\n",
    "#for now, we open every 'g' time points\n",
    "def func(g):\n",
    "    return input_node[\"counter\"]%g==0"
   ]
  },
  {
   "cell_type": "code",
   "execution_count": 770,
   "metadata": {
    "collapsed": false
   },
   "outputs": [],
   "source": [
    "class Gate(UserDict):\n",
    "    #reminder: add opening and closing logic\n",
    "    def __init__(self, name, start_node, end_node, state):\n",
    "        UserDict.__init__(self)\n",
    "        self[\"name\"] = name\n",
    "        self[\"start_node\"]= start_node\n",
    "        self[\"end_node\"]= end_node\n",
    "        self[\"state\"]= state\n",
    "        self[\"func_param\"]= func\n",
    "    def update(self):\n",
    "        self[\"state\"] = func"
   ]
  },
  {
   "cell_type": "code",
   "execution_count": 771,
   "metadata": {
    "collapsed": false
   },
   "outputs": [
    {
     "ename": "NameError",
     "evalue": "global name 'func' is not defined",
     "output_type": "error",
     "traceback": [
      "\u001b[0;31m---------------------------------------------------------------------------\u001b[0m",
      "\u001b[0;31mNameError\u001b[0m                                 Traceback (most recent call last)",
      "\u001b[0;32m<ipython-input-771-5dca020beee3>\u001b[0m in \u001b[0;36m<module>\u001b[0;34m()\u001b[0m\n\u001b[0;32m----> 1\u001b[0;31m \u001b[0minput_gate\u001b[0m \u001b[0;34m=\u001b[0m \u001b[0mGate\u001b[0m\u001b[0;34m(\u001b[0m\u001b[0;34m\"g_1\"\u001b[0m\u001b[0;34m,\u001b[0m\u001b[0minput_node\u001b[0m\u001b[0;34m,\u001b[0m \u001b[0mhidden_state_1\u001b[0m\u001b[0;34m,\u001b[0m\u001b[0;36m1\u001b[0m\u001b[0;34m)\u001b[0m\u001b[0;34m\u001b[0m\u001b[0m\n\u001b[0m\u001b[1;32m      2\u001b[0m \u001b[0;34m\u001b[0m\u001b[0m\n\u001b[1;32m      3\u001b[0m \u001b[0mforget_gate\u001b[0m \u001b[0;34m=\u001b[0m \u001b[0mGate\u001b[0m\u001b[0;34m(\u001b[0m\u001b[0;34m\"g_2\"\u001b[0m\u001b[0;34m,\u001b[0m\u001b[0mforget_node\u001b[0m\u001b[0;34m,\u001b[0m \u001b[0mhidden_state_1\u001b[0m\u001b[0;34m,\u001b[0m\u001b[0;36m1\u001b[0m\u001b[0;34m)\u001b[0m\u001b[0;34m\u001b[0m\u001b[0m\n\u001b[1;32m      4\u001b[0m \u001b[0;34m\u001b[0m\u001b[0m\n\u001b[1;32m      5\u001b[0m \u001b[0moutput_gate\u001b[0m \u001b[0;34m=\u001b[0m \u001b[0mGate\u001b[0m\u001b[0;34m(\u001b[0m\u001b[0;34m\"g_3\"\u001b[0m\u001b[0;34m,\u001b[0m\u001b[0mhidden_state_1\u001b[0m\u001b[0;34m,\u001b[0m\u001b[0moutput_node\u001b[0m\u001b[0;34m,\u001b[0m\u001b[0;36m1\u001b[0m\u001b[0;34m)\u001b[0m\u001b[0;34m\u001b[0m\u001b[0m\n",
      "\u001b[0;32m<ipython-input-770-5e7ed332f1ed>\u001b[0m in \u001b[0;36m__init__\u001b[0;34m(self, name, start_node, end_node, state)\u001b[0m\n\u001b[1;32m      7\u001b[0m         \u001b[0mself\u001b[0m\u001b[0;34m[\u001b[0m\u001b[0;34m\"end_node\"\u001b[0m\u001b[0;34m]\u001b[0m\u001b[0;34m=\u001b[0m \u001b[0mend_node\u001b[0m\u001b[0;34m\u001b[0m\u001b[0m\n\u001b[1;32m      8\u001b[0m         \u001b[0mself\u001b[0m\u001b[0;34m[\u001b[0m\u001b[0;34m\"state\"\u001b[0m\u001b[0;34m]\u001b[0m\u001b[0;34m=\u001b[0m \u001b[0mstate\u001b[0m\u001b[0;34m\u001b[0m\u001b[0m\n\u001b[0;32m----> 9\u001b[0;31m         \u001b[0mself\u001b[0m\u001b[0;34m[\u001b[0m\u001b[0;34m\"func_param\"\u001b[0m\u001b[0;34m]\u001b[0m\u001b[0;34m=\u001b[0m \u001b[0mfunc\u001b[0m\u001b[0;34m\u001b[0m\u001b[0m\n\u001b[0m\u001b[1;32m     10\u001b[0m     \u001b[0;32mdef\u001b[0m \u001b[0mupdate\u001b[0m\u001b[0;34m(\u001b[0m\u001b[0mself\u001b[0m\u001b[0;34m)\u001b[0m\u001b[0;34m:\u001b[0m\u001b[0;34m\u001b[0m\u001b[0m\n\u001b[1;32m     11\u001b[0m         \u001b[0mself\u001b[0m\u001b[0;34m[\u001b[0m\u001b[0;34m\"state\"\u001b[0m\u001b[0;34m]\u001b[0m \u001b[0;34m=\u001b[0m \u001b[0mfunc\u001b[0m\u001b[0;34m\u001b[0m\u001b[0m\n",
      "\u001b[0;31mNameError\u001b[0m: global name 'func' is not defined"
     ]
    }
   ],
   "source": [
    "input_gate = Gate(\"g_1\",input_node, hidden_state_1,1)\n",
    "\n",
    "forget_gate = Gate(\"g_2\",forget_node, hidden_state_1,1)\n",
    "\n",
    "output_gate = Gate(\"g_3\",hidden_state_1,output_node,1)"
   ]
  },
  {
   "cell_type": "code",
   "execution_count": 754,
   "metadata": {
    "collapsed": true
   },
   "outputs": [],
   "source": [
    "class Cell(UserDict):\n",
    "    def __init__(self, name, nodes, gates):\n",
    "        UserDict.__init__(self)\n",
    "        self[\"name\"] = name\n",
    "        self[\"nodes\"] = nodes\n",
    "        self[\"gates\"] = gates"
   ]
  },
  {
   "cell_type": "code",
   "execution_count": 755,
   "metadata": {
    "collapsed": true
   },
   "outputs": [],
   "source": [
    "gates = [forget_gate, input_gate, output_gate]\n",
    "nodes = [input_node, output_node, forget_node, hidden_state_1]"
   ]
  },
  {
   "cell_type": "code",
   "execution_count": 756,
   "metadata": {
    "collapsed": true
   },
   "outputs": [],
   "source": [
    "cell_1 = Cell(\"cell_1\", nodes, gates)"
   ]
  },
  {
   "cell_type": "code",
   "execution_count": 757,
   "metadata": {
    "collapsed": false
   },
   "outputs": [],
   "source": [
    "def step(cell):\n",
    "    #get open gates\n",
    "    open_gates = filter(lambda x: x[\"state\"], cell_1[\"gates\"])\n",
    "    #push from node into open gates\n",
    "    for gate in open_gates:\n",
    "        end_state = gate[\"start_node\"][\"state\"]\n",
    "        start_state = gate[\"end_node\"][\"state\"]\n",
    "\n",
    "        #change state\n",
    "        gate[\"end_node\"][\"inputs\"].append(end_state)\n",
    "        \n",
    "        #summary\n",
    "        print gate[\"end_node\"][\"name\"], start_state,\"->\", gate[\"end_node\"][\"inputs\"]\n",
    "    \n",
    "    #update\n",
    "    for node in cell_1[\"nodes\"]:\n",
    "        node.update()\n",
    "        \n",
    "    print \"======\"\n",
    "    #pull output\n",
    "    "
   ]
  },
  {
   "cell_type": "code",
   "execution_count": 758,
   "metadata": {
    "collapsed": false
   },
   "outputs": [
    {
     "name": "stdout",
     "output_type": "stream",
     "text": [
      "h_1 0.666666666667 -> [0]\n",
      "h_1 0.666666666667 -> [0, 1]\n",
      "o_1 0 -> [0.6666666666666666]\n",
      "======\n",
      "h_1 0.5 -> [0]\n",
      "h_1 0.5 -> [0, 0]\n",
      "o_1 0.666666666667 -> [0.5]\n",
      "======\n",
      "h_1 0.0 -> [0]\n",
      "h_1 0.0 -> [0, 1]\n",
      "o_1 0.5 -> [0.0]\n",
      "======\n",
      "h_1 0.5 -> [0]\n",
      "h_1 0.5 -> [0, 0]\n",
      "o_1 0.0 -> [0.5]\n",
      "======\n",
      "h_1 0.0 -> [0]\n",
      "h_1 0.0 -> [0, 0]\n",
      "o_1 0.5 -> [0.0]\n",
      "======\n",
      "h_1 0.0 -> [0]\n",
      "h_1 0.0 -> [0, 0]\n",
      "o_1 0.0 -> [0.0]\n",
      "======\n",
      "h_1 0.0 -> [0]\n",
      "h_1 0.0 -> [0, 1]\n",
      "o_1 0.0 -> [0.0]\n",
      "======\n",
      "h_1 0.5 -> [0]\n",
      "h_1 0.5 -> [0, 1]\n",
      "o_1 0.0 -> [0.5]\n",
      "======\n",
      "h_1 0.5 -> [1]\n",
      "h_1 0.5 -> [1, 1]\n",
      "o_1 0.5 -> [0.5]\n"
     ]
    },
    {
     "ename": "IndexError",
     "evalue": "list index out of range",
     "output_type": "error",
     "traceback": [
      "\u001b[0;31m---------------------------------------------------------------------------\u001b[0m",
      "\u001b[0;31mIndexError\u001b[0m                                Traceback (most recent call last)",
      "\u001b[0;32m<ipython-input-758-ff5360aa66f5>\u001b[0m in \u001b[0;36m<module>\u001b[0;34m()\u001b[0m\n\u001b[1;32m      1\u001b[0m \u001b[0;32mwhile\u001b[0m \u001b[0;36m1\u001b[0m\u001b[0;34m:\u001b[0m\u001b[0;34m\u001b[0m\u001b[0m\n\u001b[0;32m----> 2\u001b[0;31m     \u001b[0mstep\u001b[0m\u001b[0;34m(\u001b[0m\u001b[0mcell_1\u001b[0m\u001b[0;34m)\u001b[0m\u001b[0;34m\u001b[0m\u001b[0m\n\u001b[0m",
      "\u001b[0;32m<ipython-input-757-7f4c8e2661e4>\u001b[0m in \u001b[0;36mstep\u001b[0;34m(cell)\u001b[0m\n\u001b[1;32m     15\u001b[0m     \u001b[0;31m#update\u001b[0m\u001b[0;34m\u001b[0m\u001b[0;34m\u001b[0m\u001b[0m\n\u001b[1;32m     16\u001b[0m     \u001b[0;32mfor\u001b[0m \u001b[0mnode\u001b[0m \u001b[0;32min\u001b[0m \u001b[0mcell_1\u001b[0m\u001b[0;34m[\u001b[0m\u001b[0;34m\"nodes\"\u001b[0m\u001b[0;34m]\u001b[0m\u001b[0;34m:\u001b[0m\u001b[0;34m\u001b[0m\u001b[0m\n\u001b[0;32m---> 17\u001b[0;31m         \u001b[0mnode\u001b[0m\u001b[0;34m.\u001b[0m\u001b[0mupdate\u001b[0m\u001b[0;34m(\u001b[0m\u001b[0;34m)\u001b[0m\u001b[0;34m\u001b[0m\u001b[0m\n\u001b[0m\u001b[1;32m     18\u001b[0m \u001b[0;34m\u001b[0m\u001b[0m\n\u001b[1;32m     19\u001b[0m     \u001b[0;32mprint\u001b[0m \u001b[0;34m\"======\"\u001b[0m\u001b[0;34m\u001b[0m\u001b[0m\n",
      "\u001b[0;32m<ipython-input-740-39c6d1a2b719>\u001b[0m in \u001b[0;36mupdate\u001b[0;34m(self)\u001b[0m\n\u001b[1;32m      8\u001b[0m     \u001b[0;32mdef\u001b[0m \u001b[0mupdate\u001b[0m\u001b[0;34m(\u001b[0m\u001b[0mself\u001b[0m\u001b[0;34m)\u001b[0m\u001b[0;34m:\u001b[0m\u001b[0;34m\u001b[0m\u001b[0m\n\u001b[1;32m      9\u001b[0m         \u001b[0mself\u001b[0m\u001b[0;34m[\u001b[0m\u001b[0;34m\"counter\"\u001b[0m\u001b[0;34m]\u001b[0m\u001b[0;34m=\u001b[0m \u001b[0mself\u001b[0m\u001b[0;34m[\u001b[0m\u001b[0;34m\"counter\"\u001b[0m\u001b[0;34m]\u001b[0m\u001b[0;34m+\u001b[0m\u001b[0;36m1\u001b[0m\u001b[0;34m\u001b[0m\u001b[0m\n\u001b[0;32m---> 10\u001b[0;31m         \u001b[0mself\u001b[0m\u001b[0;34m[\u001b[0m\u001b[0;34m\"state\"\u001b[0m\u001b[0;34m]\u001b[0m \u001b[0;34m=\u001b[0m \u001b[0mself\u001b[0m\u001b[0;34m[\u001b[0m\u001b[0;34m\"data\"\u001b[0m\u001b[0;34m]\u001b[0m\u001b[0;34m[\u001b[0m\u001b[0mself\u001b[0m\u001b[0;34m[\u001b[0m\u001b[0;34m\"counter\"\u001b[0m\u001b[0;34m]\u001b[0m\u001b[0;34m]\u001b[0m\u001b[0;34m\u001b[0m\u001b[0m\n\u001b[0m",
      "\u001b[0;31mIndexError\u001b[0m: list index out of range"
     ]
    }
   ],
   "source": [
    "while 1:\n",
    "    step(cell_1)"
   ]
  },
  {
   "cell_type": "code",
   "execution_count": 759,
   "metadata": {
    "collapsed": false
   },
   "outputs": [
    {
     "data": {
      "text/plain": [
       "{'state': 1, 'counter': 9, 'data': [1, 0, 1, 0, 0, 0, 1, 1, 1], 'name': 'i_1'}"
      ]
     },
     "execution_count": 759,
     "metadata": {},
     "output_type": "execute_result"
    }
   ],
   "source": [
    "input_node"
   ]
  },
  {
   "cell_type": "code",
   "execution_count": 760,
   "metadata": {
    "collapsed": false
   },
   "outputs": [
    {
     "data": {
      "text/plain": [
       "{'inputs': [1, 1], 'state': 0.5, 'name': 'h_1'}"
      ]
     },
     "execution_count": 760,
     "metadata": {},
     "output_type": "execute_result"
    }
   ],
   "source": [
    "hidden_state_1"
   ]
  },
  {
   "cell_type": "code",
   "execution_count": 761,
   "metadata": {
    "collapsed": false
   },
   "outputs": [
    {
     "data": {
      "text/plain": [
       "[0, 0.6666666666666666, 0.5, 0.0, 0.5, 0.0, 0.0, 0.0, 0.5]"
      ]
     },
     "execution_count": 761,
     "metadata": {},
     "output_type": "execute_result"
    }
   ],
   "source": [
    "output_node[\"data\"]"
   ]
  },
  {
   "cell_type": "code",
   "execution_count": 762,
   "metadata": {
    "collapsed": false
   },
   "outputs": [
    {
     "data": {
      "text/plain": [
       "9"
      ]
     },
     "execution_count": 762,
     "metadata": {},
     "output_type": "execute_result"
    }
   ],
   "source": [
    "len(output_node[\"data\"])"
   ]
  },
  {
   "cell_type": "code",
   "execution_count": 730,
   "metadata": {
    "collapsed": true
   },
   "outputs": [],
   "source": [
    "#reset input counters\n",
    "for node in cell_1[\"nodes\"]:\n",
    "    if isinstance(node, I_Node):\n",
    "        node[\"counter\"] = 0"
   ]
  }
 ],
 "metadata": {
  "kernelspec": {
   "display_name": "Python 2",
   "language": "python",
   "name": "python2"
  },
  "language_info": {
   "codemirror_mode": {
    "name": "ipython",
    "version": 2
   },
   "file_extension": ".py",
   "mimetype": "text/x-python",
   "name": "python",
   "nbconvert_exporter": "python",
   "pygments_lexer": "ipython2",
   "version": "2.7.6"
  }
 },
 "nbformat": 4,
 "nbformat_minor": 0
}
